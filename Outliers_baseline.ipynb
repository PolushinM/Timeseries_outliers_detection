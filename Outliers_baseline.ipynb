{
 "cells": [
  {
   "cell_type": "code",
   "execution_count": 1,
   "id": "20e31a9b",
   "metadata": {},
   "outputs": [],
   "source": [
    "import pandas as pd\n",
    "import numpy as np\n",
    "from sklearn.metrics import r2_score, mean_absolute_error, mean_squared_error\n",
    "from scipy.stats import kurtosis\n",
    "from catboost import CatBoostRegressor, Pool, cv\n",
    "from sklearn.preprocessing import StandardScaler\n",
    "\n",
    "import tensorflow as tf\n",
    "from tensorflow.keras.models import Sequential\n",
    "from tensorflow.keras.layers import Dense\n",
    "from tensorflow.keras.layers import LSTM\n",
    "from tensorflow.keras.layers import Dropout"
   ]
  },
  {
   "cell_type": "code",
   "execution_count": 2,
   "id": "bbacc961",
   "metadata": {},
   "outputs": [
    {
     "data": {
      "text/html": [
       "<div>\n",
       "<style scoped>\n",
       "    .dataframe tbody tr th:only-of-type {\n",
       "        vertical-align: middle;\n",
       "    }\n",
       "\n",
       "    .dataframe tbody tr th {\n",
       "        vertical-align: top;\n",
       "    }\n",
       "\n",
       "    .dataframe thead th {\n",
       "        text-align: right;\n",
       "    }\n",
       "</style>\n",
       "<table border=\"1\" class=\"dataframe\">\n",
       "  <thead>\n",
       "    <tr style=\"text-align: right;\">\n",
       "      <th></th>\n",
       "      <th>Ai1 min</th>\n",
       "      <th>ai1 mean</th>\n",
       "      <th>ai1 max</th>\n",
       "      <th>Ai2 min</th>\n",
       "      <th>ai2 mean</th>\n",
       "      <th>ai2 max</th>\n",
       "      <th>Ai3 min</th>\n",
       "      <th>ai3 mean</th>\n",
       "      <th>ai3 max</th>\n",
       "      <th>Mode</th>\n",
       "    </tr>\n",
       "  </thead>\n",
       "  <tbody>\n",
       "    <tr>\n",
       "      <th>0</th>\n",
       "      <td>33.7</td>\n",
       "      <td>34.06</td>\n",
       "      <td>34.1</td>\n",
       "      <td>33.0</td>\n",
       "      <td>33.00</td>\n",
       "      <td>33.0</td>\n",
       "      <td>0.0</td>\n",
       "      <td>0.00</td>\n",
       "      <td>0.0</td>\n",
       "      <td>3</td>\n",
       "    </tr>\n",
       "    <tr>\n",
       "      <th>1</th>\n",
       "      <td>33.9</td>\n",
       "      <td>33.98</td>\n",
       "      <td>34.1</td>\n",
       "      <td>33.0</td>\n",
       "      <td>33.02</td>\n",
       "      <td>33.1</td>\n",
       "      <td>0.0</td>\n",
       "      <td>0.00</td>\n",
       "      <td>0.0</td>\n",
       "      <td>3</td>\n",
       "    </tr>\n",
       "    <tr>\n",
       "      <th>2</th>\n",
       "      <td>33.8</td>\n",
       "      <td>33.88</td>\n",
       "      <td>34.0</td>\n",
       "      <td>33.1</td>\n",
       "      <td>33.10</td>\n",
       "      <td>33.1</td>\n",
       "      <td>34.9</td>\n",
       "      <td>34.94</td>\n",
       "      <td>35.0</td>\n",
       "      <td>3</td>\n",
       "    </tr>\n",
       "    <tr>\n",
       "      <th>3</th>\n",
       "      <td>33.6</td>\n",
       "      <td>33.68</td>\n",
       "      <td>33.7</td>\n",
       "      <td>33.1</td>\n",
       "      <td>33.10</td>\n",
       "      <td>33.1</td>\n",
       "      <td>35.0</td>\n",
       "      <td>35.06</td>\n",
       "      <td>35.1</td>\n",
       "      <td>3</td>\n",
       "    </tr>\n",
       "    <tr>\n",
       "      <th>4</th>\n",
       "      <td>33.6</td>\n",
       "      <td>33.60</td>\n",
       "      <td>33.6</td>\n",
       "      <td>33.1</td>\n",
       "      <td>33.10</td>\n",
       "      <td>33.1</td>\n",
       "      <td>35.1</td>\n",
       "      <td>35.10</td>\n",
       "      <td>35.1</td>\n",
       "      <td>3</td>\n",
       "    </tr>\n",
       "    <tr>\n",
       "      <th>...</th>\n",
       "      <td>...</td>\n",
       "      <td>...</td>\n",
       "      <td>...</td>\n",
       "      <td>...</td>\n",
       "      <td>...</td>\n",
       "      <td>...</td>\n",
       "      <td>...</td>\n",
       "      <td>...</td>\n",
       "      <td>...</td>\n",
       "      <td>...</td>\n",
       "    </tr>\n",
       "    <tr>\n",
       "      <th>8066</th>\n",
       "      <td>35.0</td>\n",
       "      <td>35.40</td>\n",
       "      <td>35.5</td>\n",
       "      <td>32.7</td>\n",
       "      <td>32.70</td>\n",
       "      <td>32.7</td>\n",
       "      <td>33.5</td>\n",
       "      <td>33.50</td>\n",
       "      <td>33.5</td>\n",
       "      <td>2</td>\n",
       "    </tr>\n",
       "    <tr>\n",
       "      <th>8067</th>\n",
       "      <td>34.9</td>\n",
       "      <td>35.11</td>\n",
       "      <td>35.3</td>\n",
       "      <td>32.7</td>\n",
       "      <td>32.71</td>\n",
       "      <td>32.8</td>\n",
       "      <td>33.5</td>\n",
       "      <td>33.50</td>\n",
       "      <td>33.5</td>\n",
       "      <td>2</td>\n",
       "    </tr>\n",
       "    <tr>\n",
       "      <th>8068</th>\n",
       "      <td>35.0</td>\n",
       "      <td>35.18</td>\n",
       "      <td>35.4</td>\n",
       "      <td>32.7</td>\n",
       "      <td>32.75</td>\n",
       "      <td>32.8</td>\n",
       "      <td>33.5</td>\n",
       "      <td>33.50</td>\n",
       "      <td>33.5</td>\n",
       "      <td>2</td>\n",
       "    </tr>\n",
       "    <tr>\n",
       "      <th>8069</th>\n",
       "      <td>34.9</td>\n",
       "      <td>35.17</td>\n",
       "      <td>35.4</td>\n",
       "      <td>32.8</td>\n",
       "      <td>32.80</td>\n",
       "      <td>32.8</td>\n",
       "      <td>33.4</td>\n",
       "      <td>33.48</td>\n",
       "      <td>33.5</td>\n",
       "      <td>2</td>\n",
       "    </tr>\n",
       "    <tr>\n",
       "      <th>8070</th>\n",
       "      <td>34.7</td>\n",
       "      <td>35.08</td>\n",
       "      <td>35.2</td>\n",
       "      <td>32.8</td>\n",
       "      <td>32.80</td>\n",
       "      <td>32.8</td>\n",
       "      <td>33.4</td>\n",
       "      <td>33.40</td>\n",
       "      <td>33.4</td>\n",
       "      <td>2</td>\n",
       "    </tr>\n",
       "  </tbody>\n",
       "</table>\n",
       "<p>8071 rows × 10 columns</p>\n",
       "</div>"
      ],
      "text/plain": [
       "      Ai1 min  ai1 mean  ai1 max  Ai2 min  ai2 mean  ai2 max  Ai3 min  \\\n",
       "0        33.7     34.06     34.1     33.0     33.00     33.0      0.0   \n",
       "1        33.9     33.98     34.1     33.0     33.02     33.1      0.0   \n",
       "2        33.8     33.88     34.0     33.1     33.10     33.1     34.9   \n",
       "3        33.6     33.68     33.7     33.1     33.10     33.1     35.0   \n",
       "4        33.6     33.60     33.6     33.1     33.10     33.1     35.1   \n",
       "...       ...       ...      ...      ...       ...      ...      ...   \n",
       "8066     35.0     35.40     35.5     32.7     32.70     32.7     33.5   \n",
       "8067     34.9     35.11     35.3     32.7     32.71     32.8     33.5   \n",
       "8068     35.0     35.18     35.4     32.7     32.75     32.8     33.5   \n",
       "8069     34.9     35.17     35.4     32.8     32.80     32.8     33.4   \n",
       "8070     34.7     35.08     35.2     32.8     32.80     32.8     33.4   \n",
       "\n",
       "      ai3 mean  ai3 max  Mode  \n",
       "0         0.00      0.0     3  \n",
       "1         0.00      0.0     3  \n",
       "2        34.94     35.0     3  \n",
       "3        35.06     35.1     3  \n",
       "4        35.10     35.1     3  \n",
       "...        ...      ...   ...  \n",
       "8066     33.50     33.5     2  \n",
       "8067     33.50     33.5     2  \n",
       "8068     33.50     33.5     2  \n",
       "8069     33.48     33.5     2  \n",
       "8070     33.40     33.4     2  \n",
       "\n",
       "[8071 rows x 10 columns]"
      ]
     },
     "execution_count": 2,
     "metadata": {},
     "output_type": "execute_result"
    }
   ],
   "source": [
    "# Read data\n",
    "row_data=pd.read_excel('DataFl72_reup.xlsx', index_col=0)\n",
    "row_data = row_data.reset_index(level=[0]).drop('#', axis=1)\n",
    "row_data"
   ]
  },
  {
   "cell_type": "code",
   "execution_count": 3,
   "id": "831bebb3",
   "metadata": {},
   "outputs": [
    {
     "name": "stdout",
     "output_type": "stream",
     "text": [
      "           Ai1 min     ai1 mean      ai1 max      Ai2 min     ai2 mean  \\\n",
      "count  8071.000000  8071.000000  8071.000000  8071.000000  8071.000000   \n",
      "mean     29.407124    29.463779    29.516119    29.908599    29.922964   \n",
      "std       3.724344     3.732760     3.758098     2.179576     2.157212   \n",
      "min       0.000000    24.560000    24.600000     0.000000    26.300000   \n",
      "25%      26.000000    26.000000    26.000000    27.900000    27.900000   \n",
      "50%      27.700000    27.700000    27.800000    29.300000    29.300000   \n",
      "75%      33.400000    33.445000    33.500000    32.100000    32.110000   \n",
      "max      35.800000    35.820000    36.100000    33.900000    33.900000   \n",
      "\n",
      "           ai2 max      Ai3 min     ai3 mean      ai3 max         Mode  \n",
      "count  8071.000000  8071.000000  8071.000000  8071.000000  8071.000000  \n",
      "mean     29.934977    34.772953    34.788967    34.800359     3.311857  \n",
      "std       2.161137     1.109396     1.035357     1.031339     1.069578  \n",
      "min      26.300000     0.000000     0.000000     0.000000     1.000000  \n",
      "25%      27.900000    34.300000    34.345000    34.400000     2.000000  \n",
      "50%      29.300000    35.100000    35.100000    35.100000     4.000000  \n",
      "75%      32.200000    35.300000    35.300000    35.300000     4.000000  \n",
      "max      33.900000    36.000000    36.000000    36.000000     4.000000  \n",
      "<class 'pandas.core.frame.DataFrame'>\n",
      "RangeIndex: 8071 entries, 0 to 8070\n",
      "Data columns (total 10 columns):\n",
      " #   Column    Non-Null Count  Dtype  \n",
      "---  ------    --------------  -----  \n",
      " 0   Ai1 min   8071 non-null   float64\n",
      " 1   ai1 mean  8071 non-null   float64\n",
      " 2   ai1 max   8071 non-null   float64\n",
      " 3   Ai2 min   8071 non-null   float64\n",
      " 4   ai2 mean  8071 non-null   float64\n",
      " 5   ai2 max   8071 non-null   float64\n",
      " 6   Ai3 min   8071 non-null   float64\n",
      " 7   ai3 mean  8071 non-null   float64\n",
      " 8   ai3 max   8071 non-null   float64\n",
      " 9   Mode      8071 non-null   int64  \n",
      "dtypes: float64(9), int64(1)\n",
      "memory usage: 630.7 KB\n",
      "None\n"
     ]
    }
   ],
   "source": [
    "# Take a look at the data\n",
    "print(row_data.describe())\n",
    "print(row_data.info())"
   ]
  },
  {
   "cell_type": "markdown",
   "id": "97f9f211",
   "metadata": {},
   "source": [
    "В данных присутствуют нулевые значения. Это выбросы, которые наблюдаются при включении оборудования. \n",
    "\n",
    "В данных есть склейка. Судя по всему, она находится в том месте, где некоторые датчики показывают ноль. \n",
    "Разделим датасет на два: до склейки (data1) и после (data2). \n",
    "\n",
    "Строки с нулевыми значениями в начале каждого куска удаляем: они не представляют интереса, так как такие значения наблюдаются только в момент включения (один из каналов инициализируется чуть раньше, чем другой, какое то время сигнал регистрируется на некоторых каналах некорректно). \n",
    "\n",
    "При работе системы либо мониторинг нужно запускать с задержкой, либо встроить в программу мониторинга функцию детекции отсутствия сигнала, чтобы не учитывать эти периоды.\n",
    "\n",
    "Отсутствующих значений нет, типы данных соответствуют возможным значениям каждой фичи.\n"
   ]
  },
  {
   "cell_type": "markdown",
   "id": "33d4bebb",
   "metadata": {},
   "source": [
    " "
   ]
  },
  {
   "cell_type": "code",
   "execution_count": 66,
   "id": "4f3cad8d",
   "metadata": {},
   "outputs": [],
   "source": [
    "# Separate data\n",
    "data1 = row_data.iloc[:1308].copy()\n",
    "data2 = row_data.iloc[1308:].copy()"
   ]
  },
  {
   "cell_type": "code",
   "execution_count": 5,
   "id": "cdf8d058",
   "metadata": {
    "scrolled": true
   },
   "outputs": [
    {
     "data": {
      "text/html": [
       "<div>\n",
       "<style scoped>\n",
       "    .dataframe tbody tr th:only-of-type {\n",
       "        vertical-align: middle;\n",
       "    }\n",
       "\n",
       "    .dataframe tbody tr th {\n",
       "        vertical-align: top;\n",
       "    }\n",
       "\n",
       "    .dataframe thead th {\n",
       "        text-align: right;\n",
       "    }\n",
       "</style>\n",
       "<table border=\"1\" class=\"dataframe\">\n",
       "  <thead>\n",
       "    <tr style=\"text-align: right;\">\n",
       "      <th></th>\n",
       "      <th>Ai1 min</th>\n",
       "      <th>ai1 mean</th>\n",
       "      <th>ai1 max</th>\n",
       "      <th>Ai2 min</th>\n",
       "      <th>ai2 mean</th>\n",
       "      <th>ai2 max</th>\n",
       "      <th>Ai3 min</th>\n",
       "      <th>ai3 mean</th>\n",
       "      <th>ai3 max</th>\n",
       "      <th>Mode</th>\n",
       "    </tr>\n",
       "  </thead>\n",
       "  <tbody>\n",
       "    <tr>\n",
       "      <th>0</th>\n",
       "      <td>33.7</td>\n",
       "      <td>34.06</td>\n",
       "      <td>34.1</td>\n",
       "      <td>33.0</td>\n",
       "      <td>33.00</td>\n",
       "      <td>33.0</td>\n",
       "      <td>0.0</td>\n",
       "      <td>0.00</td>\n",
       "      <td>0.0</td>\n",
       "      <td>3</td>\n",
       "    </tr>\n",
       "    <tr>\n",
       "      <th>1</th>\n",
       "      <td>33.9</td>\n",
       "      <td>33.98</td>\n",
       "      <td>34.1</td>\n",
       "      <td>33.0</td>\n",
       "      <td>33.02</td>\n",
       "      <td>33.1</td>\n",
       "      <td>0.0</td>\n",
       "      <td>0.00</td>\n",
       "      <td>0.0</td>\n",
       "      <td>3</td>\n",
       "    </tr>\n",
       "    <tr>\n",
       "      <th>2</th>\n",
       "      <td>33.8</td>\n",
       "      <td>33.88</td>\n",
       "      <td>34.0</td>\n",
       "      <td>33.1</td>\n",
       "      <td>33.10</td>\n",
       "      <td>33.1</td>\n",
       "      <td>34.9</td>\n",
       "      <td>34.94</td>\n",
       "      <td>35.0</td>\n",
       "      <td>3</td>\n",
       "    </tr>\n",
       "    <tr>\n",
       "      <th>3</th>\n",
       "      <td>33.6</td>\n",
       "      <td>33.68</td>\n",
       "      <td>33.7</td>\n",
       "      <td>33.1</td>\n",
       "      <td>33.10</td>\n",
       "      <td>33.1</td>\n",
       "      <td>35.0</td>\n",
       "      <td>35.06</td>\n",
       "      <td>35.1</td>\n",
       "      <td>3</td>\n",
       "    </tr>\n",
       "    <tr>\n",
       "      <th>4</th>\n",
       "      <td>33.6</td>\n",
       "      <td>33.60</td>\n",
       "      <td>33.6</td>\n",
       "      <td>33.1</td>\n",
       "      <td>33.10</td>\n",
       "      <td>33.1</td>\n",
       "      <td>35.1</td>\n",
       "      <td>35.10</td>\n",
       "      <td>35.1</td>\n",
       "      <td>3</td>\n",
       "    </tr>\n",
       "    <tr>\n",
       "      <th>...</th>\n",
       "      <td>...</td>\n",
       "      <td>...</td>\n",
       "      <td>...</td>\n",
       "      <td>...</td>\n",
       "      <td>...</td>\n",
       "      <td>...</td>\n",
       "      <td>...</td>\n",
       "      <td>...</td>\n",
       "      <td>...</td>\n",
       "      <td>...</td>\n",
       "    </tr>\n",
       "    <tr>\n",
       "      <th>8066</th>\n",
       "      <td>35.0</td>\n",
       "      <td>35.40</td>\n",
       "      <td>35.5</td>\n",
       "      <td>32.7</td>\n",
       "      <td>32.70</td>\n",
       "      <td>32.7</td>\n",
       "      <td>33.5</td>\n",
       "      <td>33.50</td>\n",
       "      <td>33.5</td>\n",
       "      <td>2</td>\n",
       "    </tr>\n",
       "    <tr>\n",
       "      <th>8067</th>\n",
       "      <td>34.9</td>\n",
       "      <td>35.11</td>\n",
       "      <td>35.3</td>\n",
       "      <td>32.7</td>\n",
       "      <td>32.71</td>\n",
       "      <td>32.8</td>\n",
       "      <td>33.5</td>\n",
       "      <td>33.50</td>\n",
       "      <td>33.5</td>\n",
       "      <td>2</td>\n",
       "    </tr>\n",
       "    <tr>\n",
       "      <th>8068</th>\n",
       "      <td>35.0</td>\n",
       "      <td>35.18</td>\n",
       "      <td>35.4</td>\n",
       "      <td>32.7</td>\n",
       "      <td>32.75</td>\n",
       "      <td>32.8</td>\n",
       "      <td>33.5</td>\n",
       "      <td>33.50</td>\n",
       "      <td>33.5</td>\n",
       "      <td>2</td>\n",
       "    </tr>\n",
       "    <tr>\n",
       "      <th>8069</th>\n",
       "      <td>34.9</td>\n",
       "      <td>35.17</td>\n",
       "      <td>35.4</td>\n",
       "      <td>32.8</td>\n",
       "      <td>32.80</td>\n",
       "      <td>32.8</td>\n",
       "      <td>33.4</td>\n",
       "      <td>33.48</td>\n",
       "      <td>33.5</td>\n",
       "      <td>2</td>\n",
       "    </tr>\n",
       "    <tr>\n",
       "      <th>8070</th>\n",
       "      <td>34.7</td>\n",
       "      <td>35.08</td>\n",
       "      <td>35.2</td>\n",
       "      <td>32.8</td>\n",
       "      <td>32.80</td>\n",
       "      <td>32.8</td>\n",
       "      <td>33.4</td>\n",
       "      <td>33.40</td>\n",
       "      <td>33.4</td>\n",
       "      <td>2</td>\n",
       "    </tr>\n",
       "  </tbody>\n",
       "</table>\n",
       "<p>8071 rows × 10 columns</p>\n",
       "</div>"
      ],
      "text/plain": [
       "      Ai1 min  ai1 mean  ai1 max  Ai2 min  ai2 mean  ai2 max  Ai3 min  \\\n",
       "0        33.7     34.06     34.1     33.0     33.00     33.0      0.0   \n",
       "1        33.9     33.98     34.1     33.0     33.02     33.1      0.0   \n",
       "2        33.8     33.88     34.0     33.1     33.10     33.1     34.9   \n",
       "3        33.6     33.68     33.7     33.1     33.10     33.1     35.0   \n",
       "4        33.6     33.60     33.6     33.1     33.10     33.1     35.1   \n",
       "...       ...       ...      ...      ...       ...      ...      ...   \n",
       "8066     35.0     35.40     35.5     32.7     32.70     32.7     33.5   \n",
       "8067     34.9     35.11     35.3     32.7     32.71     32.8     33.5   \n",
       "8068     35.0     35.18     35.4     32.7     32.75     32.8     33.5   \n",
       "8069     34.9     35.17     35.4     32.8     32.80     32.8     33.4   \n",
       "8070     34.7     35.08     35.2     32.8     32.80     32.8     33.4   \n",
       "\n",
       "      ai3 mean  ai3 max  Mode  \n",
       "0         0.00      0.0     3  \n",
       "1         0.00      0.0     3  \n",
       "2        34.94     35.0     3  \n",
       "3        35.06     35.1     3  \n",
       "4        35.10     35.1     3  \n",
       "...        ...      ...   ...  \n",
       "8066     33.50     33.5     2  \n",
       "8067     33.50     33.5     2  \n",
       "8068     33.50     33.5     2  \n",
       "8069     33.48     33.5     2  \n",
       "8070     33.40     33.4     2  \n",
       "\n",
       "[8071 rows x 10 columns]"
      ]
     },
     "execution_count": 5,
     "metadata": {},
     "output_type": "execute_result"
    }
   ],
   "source": [
    "row_data"
   ]
  },
  {
   "cell_type": "code",
   "execution_count": 6,
   "id": "9f1cf5d1",
   "metadata": {},
   "outputs": [],
   "source": [
    "# Drop zero rows\n",
    "data1 = data1.drop(data1[(data1.min(axis=1) < 1)].index)\n",
    "data2 = data2.drop(data2[(data2.min(axis=1) < 1)].index)"
   ]
  },
  {
   "cell_type": "markdown",
   "id": "c816225e",
   "metadata": {},
   "source": [
    "В качестве бейзлайна, попробуем использовать модель только на усренённых значениях сигнала. Они более устойчивы, есть предположение, что анализ минимального и минимального значений не даст значительного прироста точности модели."
   ]
  },
  {
   "cell_type": "markdown",
   "id": "78e2719d",
   "metadata": {},
   "source": [
    "Потом можно попробовать добавить в качестве фичей значения волатильности температуры (разность между максимальным и минимальным значениями в каждом периоде) по каждому из датчиков, и посмотреть, какой прирост точности это может обеспечить."
   ]
  },
  {
   "cell_type": "code",
   "execution_count": 67,
   "id": "4c19cf3e",
   "metadata": {
    "scrolled": false
   },
   "outputs": [
    {
     "data": {
      "text/plain": [
       "array([<AxesSubplot:>, <AxesSubplot:>, <AxesSubplot:>, <AxesSubplot:>,\n",
       "       <AxesSubplot:>, <AxesSubplot:>, <AxesSubplot:>, <AxesSubplot:>,\n",
       "       <AxesSubplot:>, <AxesSubplot:>], dtype=object)"
      ]
     },
     "execution_count": 67,
     "metadata": {},
     "output_type": "execute_result"
    },
    {
     "data": {
      "image/png": "[encoded data removed]",
      "text/plain": [
       "<Figure size 1152x576 with 10 Axes>"
      ]
     },
     "metadata": {
      "needs_background": "light"
     },
     "output_type": "display_data"
    }
   ],
   "source": [
    "data1.plot(figsize=(16, 8), subplots=True, grid=True)"
   ]
  },
  {
   "cell_type": "code",
   "execution_count": 68,
   "id": "4f35ad02",
   "metadata": {
    "scrolled": false
   },
   "outputs": [
    {
     "data": {
      "text/plain": [
       "array([<AxesSubplot:>, <AxesSubplot:>, <AxesSubplot:>, <AxesSubplot:>,\n",
       "       <AxesSubplot:>, <AxesSubplot:>, <AxesSubplot:>, <AxesSubplot:>,\n",
       "       <AxesSubplot:>, <AxesSubplot:>], dtype=object)"
      ]
     },
     "execution_count": 68,
     "metadata": {},
     "output_type": "execute_result"
    },
    {
     "data": {
      "image/png": "[encoded data removed]",
      "text/plain": [
       "<Figure size 1152x576 with 10 Axes>"
      ]
     },
     "metadata": {
      "needs_background": "light"
     },
     "output_type": "display_data"
    }
   ],
   "source": [
    "data2.plot(figsize=(16, 8), subplots=True)"
   ]
  },
  {
   "cell_type": "markdown",
   "id": "ea4bd512",
   "metadata": {},
   "source": [
    " \n",
    " "
   ]
  },
  {
   "cell_type": "markdown",
   "id": "511309bc",
   "metadata": {},
   "source": [
    "#### Проверим, насколько точно можно \"прогнозировать\" следующее значение ряда, если в качестве прогноза брать текущее значение.\n"
   ]
  },
  {
   "cell_type": "code",
   "execution_count": 9,
   "id": "cd1773ed",
   "metadata": {},
   "outputs": [],
   "source": [
    "shifted_data2 = (data2[['ai1 mean', 'ai2 mean', 'ai3 mean']] - data2[['ai1 mean', 'ai2 mean', 'ai3 mean']].shift(1)).iloc[1:]"
   ]
  },
  {
   "cell_type": "code",
   "execution_count": 10,
   "id": "3b4e5148",
   "metadata": {},
   "outputs": [
    {
     "data": {
      "text/html": [
       "<div>\n",
       "<style scoped>\n",
       "    .dataframe tbody tr th:only-of-type {\n",
       "        vertical-align: middle;\n",
       "    }\n",
       "\n",
       "    .dataframe tbody tr th {\n",
       "        vertical-align: top;\n",
       "    }\n",
       "\n",
       "    .dataframe thead th {\n",
       "        text-align: right;\n",
       "    }\n",
       "</style>\n",
       "<table border=\"1\" class=\"dataframe\">\n",
       "  <thead>\n",
       "    <tr style=\"text-align: right;\">\n",
       "      <th></th>\n",
       "      <th>ai1 mean</th>\n",
       "      <th>ai2 mean</th>\n",
       "      <th>ai3 mean</th>\n",
       "    </tr>\n",
       "  </thead>\n",
       "  <tbody>\n",
       "    <tr>\n",
       "      <th>count</th>\n",
       "      <td>6760.000000</td>\n",
       "      <td>6760.000000</td>\n",
       "      <td>6760.000000</td>\n",
       "    </tr>\n",
       "    <tr>\n",
       "      <th>mean</th>\n",
       "      <td>0.001314</td>\n",
       "      <td>0.000710</td>\n",
       "      <td>-0.000296</td>\n",
       "    </tr>\n",
       "    <tr>\n",
       "      <th>std</th>\n",
       "      <td>0.149060</td>\n",
       "      <td>0.040442</td>\n",
       "      <td>0.081988</td>\n",
       "    </tr>\n",
       "    <tr>\n",
       "      <th>min</th>\n",
       "      <td>-0.760000</td>\n",
       "      <td>-0.420000</td>\n",
       "      <td>-0.490000</td>\n",
       "    </tr>\n",
       "    <tr>\n",
       "      <th>25%</th>\n",
       "      <td>-0.030000</td>\n",
       "      <td>0.000000</td>\n",
       "      <td>0.000000</td>\n",
       "    </tr>\n",
       "    <tr>\n",
       "      <th>50%</th>\n",
       "      <td>0.000000</td>\n",
       "      <td>0.000000</td>\n",
       "      <td>0.000000</td>\n",
       "    </tr>\n",
       "    <tr>\n",
       "      <th>75%</th>\n",
       "      <td>0.010000</td>\n",
       "      <td>0.000000</td>\n",
       "      <td>0.000000</td>\n",
       "    </tr>\n",
       "    <tr>\n",
       "      <th>max</th>\n",
       "      <td>3.240000</td>\n",
       "      <td>0.170000</td>\n",
       "      <td>2.180000</td>\n",
       "    </tr>\n",
       "  </tbody>\n",
       "</table>\n",
       "</div>"
      ],
      "text/plain": [
       "          ai1 mean     ai2 mean     ai3 mean\n",
       "count  6760.000000  6760.000000  6760.000000\n",
       "mean      0.001314     0.000710    -0.000296\n",
       "std       0.149060     0.040442     0.081988\n",
       "min      -0.760000    -0.420000    -0.490000\n",
       "25%      -0.030000     0.000000     0.000000\n",
       "50%       0.000000     0.000000     0.000000\n",
       "75%       0.010000     0.000000     0.000000\n",
       "max       3.240000     0.170000     2.180000"
      ]
     },
     "execution_count": 10,
     "metadata": {},
     "output_type": "execute_result"
    }
   ],
   "source": [
    "shifted_data2.describe()"
   ]
  },
  {
   "cell_type": "code",
   "execution_count": 11,
   "id": "376c8208",
   "metadata": {},
   "outputs": [
    {
     "data": {
      "text/plain": [
       "array([[<AxesSubplot:title={'center':'ai1 mean'}>,\n",
       "        <AxesSubplot:title={'center':'ai2 mean'}>],\n",
       "       [<AxesSubplot:title={'center':'ai3 mean'}>, <AxesSubplot:>]],\n",
       "      dtype=object)"
      ]
     },
     "execution_count": 11,
     "metadata": {},
     "output_type": "execute_result"
    },
    {
     "data": {
      "image/png": "[encoded data removed]",
      "text/plain": [
       "<Figure size 1152x720 with 4 Axes>"
      ]
     },
     "metadata": {
      "needs_background": "light"
     },
     "output_type": "display_data"
    }
   ],
   "source": [
    "shifted_data2.hist(bins=200, figsize=(16, 10))"
   ]
  },
  {
   "cell_type": "markdown",
   "id": "1105eff8",
   "metadata": {},
   "source": [
    "Наблюдаются очень редкие скачки температуры датчиков 1 и 3. По значениям квартилей видно, что почти все изменения температуры находятся в районе нуля. \n",
    "\n",
    "Датчики 1 и 3 измеряют температуру жидкости. Судя по принципу работы установки, скачки температуры более 0.2°С за минуту наблюдаются только в моменты, когда, при наполнении бака, жидкость касается датчика.\n",
    "\n",
    "Это является серьёзной проблемой для нас, так как мы собираемся делать выводы о режимах работы оборудования по абсолютному значению ошибки прогноза, а эта ошибка будет достигать значений порядка 1°С только в редкие моменты, когда уровень жидкости в баке достигает датчика."
   ]
  },
  {
   "cell_type": "markdown",
   "id": "09167f56",
   "metadata": {},
   "source": [
    "##### Теперь возьмём самую простую метрику, R^2, и посчитаем её для этой \"элементарной модели\"."
   ]
  },
  {
   "cell_type": "code",
   "execution_count": 12,
   "id": "3d5cf652",
   "metadata": {
    "scrolled": true
   },
   "outputs": [
    {
     "name": "stdout",
     "output_type": "stream",
     "text": [
      "Temp1 R^2=0.99762\n",
      "Temp2 R^2=0.99843\n",
      "Temp3 R^2=0.99789\n"
     ]
    }
   ],
   "source": [
    "print(f'Temp1 R^2={r2_score(data2.iloc[:-1, 0], data2.iloc[1:, 0]):.5f}')\n",
    "print(f'Temp2 R^2={r2_score(data2.iloc[:-1, 1], data2.iloc[1:, 1]):.5f}')\n",
    "print(f'Temp3 R^2={r2_score(data2.iloc[:-1, 2], data2.iloc[1:, 2]):.5f}')"
   ]
  },
  {
   "cell_type": "markdown",
   "id": "55457c00",
   "metadata": {},
   "source": [
    "* Как видим, следующее значение очень точно предсказывается предыдущим, предсказвать моделью непосредственно температуру не имеет смысла. \n",
    "* Будем строить модель, предсказывающую изменение температуры.\n",
    "* Здесь необходимо сразу указать на следующую проблему: почти все предсказываемые значения для датчиков 1 и 3 находятся вблизи нуля, есть всего несколько очень больших выбросов. Модель (особенно, если использовать L2 loss) будет обучаться, преимущественно, по этим нескольким выбросам, а более 99.9% значений предсказывать будет относительно плохо. Распределение ошибки здесь не похоже ни на распределение Гаусса, ни на Лапласса, поэтому, строго говоря, даже использование L1 loss здесь некорректно.\n",
    "* В качестве бейзлайна используем модель, обучаемую с L1 loss, но в будущем, для улучшения качества может понадобиться корректировка функции потерь, либо преобразование таргета (например, можно применить преобразование при помощи логистической функции)."
   ]
  },
  {
   "cell_type": "markdown",
   "id": "9282f2a4",
   "metadata": {},
   "source": [
    "##### Коэффициенты эксцесса для изменений показаний 3х датчиков:"
   ]
  },
  {
   "cell_type": "code",
   "execution_count": 13,
   "id": "3492fae7",
   "metadata": {},
   "outputs": [
    {
     "name": "stdout",
     "output_type": "stream",
     "text": [
      "Temp1 Kurtosis=189.59454374238564\n",
      "Temp2 Kurtosis=7.954764396269425\n",
      "Temp3 Kurtosis=206.89743628536993\n"
     ]
    }
   ],
   "source": [
    "print(f'Temp1 Kurtosis={kurtosis(shifted_data2.iloc[:, 0])}')\n",
    "print(f'Temp2 Kurtosis={kurtosis(shifted_data2.iloc[:, 1])}')\n",
    "print(f'Temp3 Kurtosis={kurtosis(shifted_data2.iloc[:, 2])}')"
   ]
  },
  {
   "cell_type": "markdown",
   "id": "dc90e1a6",
   "metadata": {},
   "source": [
    "##### Более релевантной метрикой качетва, чем коэффициент детерминации будет MAE:"
   ]
  },
  {
   "cell_type": "code",
   "execution_count": 14,
   "id": "f2792274",
   "metadata": {},
   "outputs": [
    {
     "name": "stdout",
     "output_type": "stream",
     "text": [
      "Temp1 MAE=0.07558°C\n",
      "Temp2 MAE=0.05403°C\n",
      "Temp3 MAE=0.07089°C\n"
     ]
    }
   ],
   "source": [
    "print(f'Temp1 MAE={mean_absolute_error(data2.iloc[:-1, 0], data2.iloc[1:, 0]):.5f}°C')\n",
    "print(f'Temp2 MAE={mean_absolute_error(data2.iloc[:-1, 1], data2.iloc[1:, 1]):.5f}°C')\n",
    "print(f'Temp3 MAE={mean_absolute_error(data2.iloc[:-1, 2], data2.iloc[1:, 2]):.5f}°C')"
   ]
  },
  {
   "cell_type": "markdown",
   "id": "d2827c4a",
   "metadata": {},
   "source": [
    "Полученные значения будем использовать в качестве опорных для оценки качества моделей."
   ]
  },
  {
   "cell_type": "markdown",
   "id": "43c51dea",
   "metadata": {},
   "source": [
    " "
   ]
  },
  {
   "cell_type": "markdown",
   "id": "603398ef",
   "metadata": {},
   "source": [
    "### Генерация синтетических фичей"
   ]
  },
  {
   "cell_type": "markdown",
   "id": "ecbce003",
   "metadata": {},
   "source": [
    "#### Для понимания того, какие процессы происходят в установке, и как они влияют на показания датчиков, составил следующее описание:\n",
    "\n",
    "* **Mode=4:** Начальное состояние системы. \n",
    "Бак №1 пуст, бак №2 наполнен, газ (датчики 1 и 2) в первом баке постепенно охлаждается до температуры примерно 24°С (вероятно, температура воздуха в цехе), скорость охлаждения пропорциональна разности температур. Температура в баке №2 поддерживается на уровне 34..36°C системой управления.\n",
    "* **Mode=1:**\n",
    "В этом режиме жидкость перекачивается в бак №1. Пока уровень жидкости не достиг датчиков, температура в баке №1 продолжает приближаться к Тцеха, затем (жидкость доходит до датчика) начинает расти до Тпроцесса, на уровне около 35°. В баке №2 температура начинает быстро падать после того, как уровень жидкости опустится ниже датчика.\n",
    "* **Mode=2:** Рабочий режим.\n",
    "Основной технологический процесс. В баке №1 поддерживается постоянная температура жидкости. В баке №2 температура газа быстро снижается.\n",
    "* **Mode=3:**\n",
    "Перекачивание жидкости из бака №1 в бак №2. Температура в баке №1 снижается постепенно. В баке №2 температура испытывает резкий скачок вверх, когда жидкость достигает датчика."
   ]
  },
  {
   "cell_type": "markdown",
   "id": "f2ff93b7",
   "metadata": {},
   "source": [
    "#### Подумаем, что может пойти не так:\n",
    "\n",
    "* **Mode=4:** Выход температуры в баке №2 за установленные в системе управления температурой пределы (неисправность системы поддержания температуры), слишком медленный нагрев (неисправность нагревателя) жидкости в баке №2 или слишком быстрое её охлаждение (нарушение теплоизоляции). Несоответствие скорости охлаждения (нарушение теплоизоляции или неполное удаление продукта реакции) бака №1 текущей разности температур (температур в баке и в цехе). \n",
    "* **Mode=1:** Переход от охлаждения к нагреву в баке №1 происходит позже обычного (недостаточная производительность насоса), необычная скорость нагрева или охлаждения в баке №1. Скачок температуры в баке №2 происходит позже обычного (недостаточная производительность насоса).\n",
    "* **Mode=2:** Выход температуры в баке №1 за установленные в системе управления температурой пределы (неисправность системы поддержания температуры), слишком медленный нагрев (неисправность нагревателя) жидкости в баке №1 или слишком быстрое её охлаждение (нарушение теплоизоляции). Нетипичная скорость охлаждения в баке №2.\n",
    "* **Mode=3:** Нетипичная скорость охлаждения в баке №1. Переход от охлаждения к нагреву в баке №2 происходит позже обычного (недостаточная производительность насоса)."
   ]
  },
  {
   "cell_type": "markdown",
   "id": "fbbbdf22",
   "metadata": {},
   "source": [
    "#### В качестве синтетических фичей нам понадобятся:\n",
    "* Лаговые фичи: значения температуры с лагами 1, 2 и 3 шага (9 фичей)\n",
    "* One-hot encoding колонки \"Mode\" (4 колонки)\n",
    "* Время, которое прошло от начала каждого цикла (4 колонки)\n",
    "* Время, которое прошло от начала текущего цикла (1 колонка)\n",
    "* Сглаженные при помощи EMA скорости изменения температур на каждом из 3х датчиков (3 колонки, если использовать один период усреднения, 6..12, если использовать несколько периодов)\n",
    "* Нормированная на разность температур в цехе и в баке №1 скорость охлаждения по датчикам 1 и 2 (2 колонки)\n"
   ]
  },
  {
   "cell_type": "markdown",
   "id": "13f9a062",
   "metadata": {},
   "source": [
    "Наиболее простой моделью, которая может учесть указанные особенности, кажется GBMT. Её и будем использовать для бейзлайна, для того чтобы оценивать эффективность более сложной LSTM (в качестве реализации GBMT возьмём CatBoost просто потому что я им пользуюсь чаще, в случае, если понадобится высокопроизводительная модель, можно будет заменить на LightGBM)."
   ]
  },
  {
   "cell_type": "code",
   "execution_count": 15,
   "id": "7b87171f",
   "metadata": {},
   "outputs": [],
   "source": [
    "# Generate volatility features\n",
    "def get_volatility(data: pd.DataFrame) -> pd.DataFrame:\n",
    "    \n",
    "    result = pd.DataFrame()\n",
    "\n",
    "    result['Ai1_volat+'] = data['ai1 max'] - data['ai1 mean']\n",
    "    result['Ai2_volat+'] = data['ai2 max'] - data['ai2 mean']\n",
    "    result['Ai3_volat+'] = data['ai3 max'] - data['ai3 mean']\n",
    "    result['Ai1_volat-'] = data['ai1 mean'] - data['Ai1 min']\n",
    "    result['Ai2_volat-'] = data['ai2 mean'] - data['Ai2 min']\n",
    "    result['Ai3_volat-'] = data['ai3 mean'] - data['Ai3 min']\n",
    "    \n",
    "    return result\n",
    "\n",
    "# Generate lag features\n",
    "def get_lags(data: pd.DataFrame) -> pd.DataFrame:\n",
    "    \n",
    "    result = pd.DataFrame()\n",
    "\n",
    "    result['Temp1_shift1'] = data['ai1 mean'].shift(1, fill_value=data2['ai1 mean'].iloc[0])\n",
    "    result['Temp1_shift2'] = data['ai1 mean'].shift(2, fill_value=data2['ai1 mean'].iloc[0])\n",
    "    result['Temp1_shift3'] = data['ai1 mean'].shift(3, fill_value=data2['ai1 mean'].iloc[0])\n",
    "    result['Temp1_shift4'] = data['ai1 mean'].shift(4, fill_value=data2['ai1 mean'].iloc[0])\n",
    "    result['Temp1_shift5'] = data['ai1 mean'].shift(5, fill_value=data2['ai1 mean'].iloc[0])\n",
    "\n",
    "    result['Temp2_shift1'] = data['ai2 mean'].shift(1, fill_value=data2['ai2 mean'].iloc[0])\n",
    "    result['Temp2_shift2'] = data['ai2 mean'].shift(2, fill_value=data2['ai2 mean'].iloc[0])\n",
    "\n",
    "    result['Temp3_shift1'] = data['ai3 mean'].shift(1, fill_value=data2['ai3 mean'].iloc[0])\n",
    "    result['Temp3_shift2'] = data['ai3 mean'].shift(2, fill_value=data2['ai3 mean'].iloc[0])\n",
    "    \n",
    "    return result\n",
    "\n",
    "# Generate mode one hot encoding features\n",
    "def get_mode_ohe(data: pd.DataFrame) -> pd.DataFrame:\n",
    "    \n",
    "    result = pd.DataFrame()\n",
    "    \n",
    "    result['Mode1'] = (data2.Mode == 1)*1\n",
    "    result['Mode2'] = (data2.Mode == 2)*1\n",
    "    result['Mode3'] = (data2.Mode == 3)*1\n",
    "    result['Mode4'] = (data2.Mode == 4)*1\n",
    "    \n",
    "    return result\n",
    "\n",
    "# Generate uptime features\n",
    "def get_uptime(data: pd.DataFrame) -> pd.DataFrame:\n",
    "\n",
    "    result = pd.DataFrame()\n",
    "    \n",
    "    result['Mode1_uptime'] = np.nan\n",
    "    result['Mode2_uptime'] = np.nan\n",
    "    result['Mode3_uptime'] = np.nan\n",
    "    result['Mode4_uptime'] = np.nan\n",
    "    result['Cycle_uptime'] = np.nan\n",
    "\n",
    "    mode1_time = 0\n",
    "    mode2_time = 0\n",
    "    mode3_time = 0\n",
    "    mode4_time = 0\n",
    "    cycle_time = 0\n",
    "    current_mode1 = 0\n",
    "    current_mode2 = 0\n",
    "    current_mode3 = 0\n",
    "    current_mode4 = 0\n",
    "\n",
    "    for index, row in data.iterrows():\n",
    "        mode1_time += 1\n",
    "        mode2_time += 1\n",
    "        mode3_time += 1\n",
    "        mode4_time += 1\n",
    "        cycle_time += 1\n",
    "\n",
    "        if current_mode1 == 0 and row['Mode1'] == 1:\n",
    "            mode1_time = 1\n",
    "            cycle_time = 1\n",
    "        if current_mode2 == 0 and row['Mode2'] == 1:\n",
    "            mode2_time = 1\n",
    "            cycle_time = 1\n",
    "        if current_mode3 == 0 and row['Mode3'] == 1:\n",
    "            mode3_time = 1\n",
    "            cycle_time = 1\n",
    "        if current_mode4 == 0 and row['Mode4'] == 1:\n",
    "            mode4_time = 1\n",
    "            cycle_time = 1\n",
    "\n",
    "        current_mode1 = row['Mode1']\n",
    "        current_mode2 = row['Mode2']\n",
    "        current_mode3 = row['Mode3']\n",
    "        current_mode4 = row['Mode4']\n",
    "\n",
    "        result.loc[index, 'Mode1_uptime'] = mode1_time\n",
    "        result.loc[index, 'Mode2_uptime'] = mode2_time\n",
    "        result.loc[index, 'Mode3_uptime'] = mode3_time\n",
    "        result.loc[index, 'Mode4_uptime'] = mode4_time\n",
    "        result.loc[index, 'Cycle_uptime'] = cycle_time\n",
    "        \n",
    "    return result\n",
    "\n",
    "def generate_ema(data: pd.Series, periods: np.array, columns: list) -> pd.DataFrame:\n",
    "    alphas = 2 / (periods + 1)\n",
    "\n",
    "    # Memory allocation for resulting values\n",
    "    result_ema = np.ndarray((data.shape[0], len(alphas)), dtype=float)\n",
    "\n",
    "    # Fill buffer vectors\n",
    "    ema_buffer = np.ones((len(alphas),), dtype=float) * data.iloc[0]\n",
    "    result_ema[0] = ema_buffer\n",
    "\n",
    "\n",
    "    # Calculation of EMA, DMA, TMA, QMA\n",
    "    for i in range(1, data.shape[0]):\n",
    "        ema_buffer = ema_buffer * (1 - alphas) + alphas * data.iloc[i]\n",
    "        result_ema[i] = ema_buffer\n",
    "\n",
    "\n",
    "    # Convert result into pandas DaraFrame\n",
    "    return pd.DataFrame(result_ema, index=data.index, columns=columns)\n",
    "\n",
    "# Generate differential features\n",
    "def get_diffs(data: pd.DataFrame) -> pd.DataFrame:\n",
    "\n",
    "    diff_data = pd.DataFrame()\n",
    "\n",
    "    diff_data['Temp1_diff1'] = data['ai1 mean'] - data['ai1 mean'].shift(1, fill_value=data2['ai1 mean'].iloc[0])\n",
    "    diff_data['Temp1_diff2'] = data['ai1 mean'] - data['ai1 mean'].shift(2, fill_value=data2['ai1 mean'].iloc[0])\n",
    "    diff_data['Temp1_diff3'] = data['ai1 mean'] - data['ai1 mean'].shift(3, fill_value=data2['ai1 mean'].iloc[0])\n",
    "    diff_data['Temp1_diff4'] = data['ai1 mean'] - data['ai1 mean'].shift(4, fill_value=data2['ai1 mean'].iloc[0])\n",
    "    diff_data['Temp2_diff1'] = data['ai2 mean'] - data['ai2 mean'].shift(1, fill_value=data2['ai2 mean'].iloc[0])\n",
    "    diff_data['Temp3_diff1'] = data['ai3 mean'] - data['ai3 mean'].shift(1, fill_value=data2['ai3 mean'].iloc[0])\n",
    "\n",
    "    return diff_data\n",
    "\n",
    "# Generate cooling down features\n",
    "def get_cool_down(data: pd.DataFrame) -> pd.DataFrame:\n",
    "    \n",
    "    result = pd.DataFrame()\n",
    "\n",
    "    result['Temp1_cooling_down'] = (data['Temp1_diff3'] / (data['Temp1_ema_long'] - 23))\n",
    "    result['Temp2_cooling_down'] = (data['Temp2_diff1'] / (data['Temp2_ema_long'] - 23))\n",
    "    \n",
    "    return result"
   ]
  },
  {
   "cell_type": "code",
   "execution_count": 16,
   "id": "a628a560",
   "metadata": {},
   "outputs": [],
   "source": [
    "# Add volatility features\n",
    "data1 = data1.join(get_volatility(data1))\n",
    "data2 = data2.join(get_volatility(data2))\n",
    "\n",
    "# Лаговые фичи: значения температуры с лагами 1 и 2 шага (6 колонок)\n",
    "data1 = data1.join(get_lags(data1))\n",
    "data2 = data2.join(get_lags(data2))\n",
    "\n",
    "# One-hot encoding колонки \"Mode\" (4 колонки)\n",
    "data1 = data1.join(get_mode_ohe(data1))\n",
    "data2 = data2.join(get_mode_ohe(data2))\n",
    "\n",
    "# Время, которое прошло от начала каждого цикла (4 колонки). Время, которое прошло от начала текущего цикла (1 колонка).\n",
    "data1 = data1.join(get_uptime(data1))\n",
    "data2 = data2.join(get_uptime(data2))\n",
    "\n",
    "\n",
    "# Фичи, полученные дифференцированием\n",
    "data1 = data1.join(get_diffs(data1))\n",
    "data2 = data2.join(get_diffs(data2))\n",
    "\n",
    "# Сглаженные при помощи EMA скорости изменения температур на каждом из 3х датчиков (9 колонок, периоды (окна) 1.5, 4 и 25) плюс 3 несглаженных значения\n",
    "data1 = data1.join(generate_ema(data1['Temp1_diff1'], np.array([2, 5, 25]), ['Temp1_ema_short', 'Temp1_ema_avg', 'Temp1_ema_long']))\n",
    "data1 = data1.join(generate_ema(data1['Temp2_diff1'], np.array([2, 5, 25]), ['Temp2_ema_short', 'Temp2_ema_avg', 'Temp2_ema_long']))\n",
    "data1 = data1.join(generate_ema(data1['Temp3_diff1'], np.array([2, 5, 25]), ['Temp3_ema_short', 'Temp3_ema_avg', 'Temp3_ema_long']))\n",
    "data2 = data2.join(generate_ema(data2['Temp1_diff1'], np.array([2, 5, 25]), ['Temp1_ema_short', 'Temp1_ema_avg', 'Temp1_ema_long']))\n",
    "data2 = data2.join(generate_ema(data2['Temp2_diff1'], np.array([2, 5, 25]), ['Temp2_ema_short', 'Temp2_ema_avg', 'Temp2_ema_long']))\n",
    "data2 = data2.join(generate_ema(data2['Temp3_diff1'], np.array([2, 5, 25]), ['Temp3_ema_short', 'Temp3_ema_avg', 'Temp3_ema_long']))\n",
    "\n",
    "# Нормированная на разность температур в цехе и в баке №1 скорость остывания по датчикам 1 и 2 (2 колонки)\n",
    "data1 = data1.join(get_cool_down(data1))\n",
    "data2 = data2.join(get_cool_down(data2))\n",
    "\n",
    "# Drop unnecessary columns\n",
    "data1.drop(columns=['Ai1 min', 'ai1 max', 'Ai2 min', 'ai2 max', 'Ai3 min', 'ai3 max', 'Mode'], axis=1, inplace=True)\n",
    "data2.drop(columns=['Ai1 min', 'ai1 max', 'Ai2 min', 'ai2 max', 'Ai3 min', 'ai3 max', 'Mode'], axis=1, inplace=True)"
   ]
  },
  {
   "cell_type": "markdown",
   "id": "7f26112c",
   "metadata": {},
   "source": [
    " "
   ]
  },
  {
   "cell_type": "markdown",
   "id": "fcf68b16",
   "metadata": {},
   "source": [
    "#### Формируем таргеты\n",
    "\n"
   ]
  },
  {
   "cell_type": "code",
   "execution_count": 17,
   "id": "85c8df13",
   "metadata": {},
   "outputs": [],
   "source": [
    "# В качестве таргета - следующее значение температуры минус текущее значение\n",
    "target_temp1 = data2['ai1 mean'].shift(-1, fill_value=data2['ai1 mean'].iloc[-1]) - data2['ai1 mean']\n",
    "target_temp2 = data2['ai2 mean'].shift(-1, fill_value=data2['ai2 mean'].iloc[-1]) - data2['ai2 mean']\n",
    "target_temp3 = data2['ai3 mean'].shift(-1, fill_value=data2['ai3 mean'].iloc[-1]) - data2['ai3 mean']"
   ]
  },
  {
   "cell_type": "markdown",
   "id": "ef5e44a1",
   "metadata": {},
   "source": [
    "#### Модели CatBoost"
   ]
  },
  {
   "cell_type": "code",
   "execution_count": 41,
   "id": "bb31fb02",
   "metadata": {},
   "outputs": [],
   "source": [
    "cb_model = CatBoostRegressor(n_estimators=3000,\n",
    "                             learning_rate=0.02,\n",
    "                             rsm=0.8,\n",
    "                             depth=6,\n",
    "                             loss_function='MAE',\n",
    "                             thread_count=-1,\n",
    "                             random_seed=0,\n",
    "                             logging_level='Silent')\n",
    "\n",
    "cb_temp1_model = cb_model.copy()\n",
    "cb_temp2_model = cb_model.copy()\n",
    "cb_temp3_model = cb_model.copy()\n",
    "\n",
    "params = {\n",
    "    'loss_function': 'MAE',\n",
    "    'iterations': 1500,\n",
    "    'depth': 7,\n",
    "    'rsm': 0.8,\n",
    "    'random_seed': 0,\n",
    "    'learning_rate': 0.02\n",
    "}"
   ]
  },
  {
   "cell_type": "code",
   "execution_count": 42,
   "id": "499291b4",
   "metadata": {},
   "outputs": [
    {
     "name": "stdout",
     "output_type": "stream",
     "text": [
      "Temp1 MAE=0.054°C\n"
     ]
    },
    {
     "data": {
      "application/vnd.jupyter.widget-view+json": {
       "model_id": "461fbdefc08843b385785e8cea5b3e42",
       "version_major": 2,
       "version_minor": 0
      },
      "text/plain": [
       "MetricVisualizer(layout=Layout(align_self='stretch', height='500px'))"
      ]
     },
     "metadata": {},
     "output_type": "display_data"
    },
    {
     "ename": "KeyboardInterrupt",
     "evalue": "",
     "output_type": "error",
     "traceback": [
      "\u001b[1;31m---------------------------------------------------------------------------\u001b[0m",
      "\u001b[1;31mKeyboardInterrupt\u001b[0m                         Traceback (most recent call last)",
      "\u001b[1;32m<ipython-input-42-b95b70a5a78c>\u001b[0m in \u001b[0;36m<module>\u001b[1;34m\u001b[0m\n\u001b[0;32m      1\u001b[0m \u001b[0mprint\u001b[0m\u001b[1;33m(\u001b[0m\u001b[1;34mf'Temp1 MAE={mean_absolute_error(data2.iloc[:-1, 0], data2.iloc[1:, 0]):.3f}°C'\u001b[0m\u001b[1;33m)\u001b[0m\u001b[1;33m\u001b[0m\u001b[1;33m\u001b[0m\u001b[0m\n\u001b[1;32m----> 2\u001b[1;33m cv_data = cv(\n\u001b[0m\u001b[0;32m      3\u001b[0m     \u001b[0mparams\u001b[0m\u001b[1;33m=\u001b[0m\u001b[0mparams\u001b[0m\u001b[1;33m,\u001b[0m\u001b[1;33m\u001b[0m\u001b[1;33m\u001b[0m\u001b[0m\n\u001b[0;32m      4\u001b[0m     \u001b[0mpool\u001b[0m\u001b[1;33m=\u001b[0m\u001b[0mPool\u001b[0m\u001b[1;33m(\u001b[0m\u001b[0mdata2\u001b[0m\u001b[1;33m,\u001b[0m \u001b[0mlabel\u001b[0m\u001b[1;33m=\u001b[0m\u001b[0mtarget_temp1\u001b[0m\u001b[1;33m)\u001b[0m\u001b[1;33m,\u001b[0m\u001b[1;33m\u001b[0m\u001b[1;33m\u001b[0m\u001b[0m\n\u001b[0;32m      5\u001b[0m     \u001b[0mfold_count\u001b[0m\u001b[1;33m=\u001b[0m\u001b[1;36m6\u001b[0m\u001b[1;33m,\u001b[0m\u001b[1;33m\u001b[0m\u001b[1;33m\u001b[0m\u001b[0m\n",
      "\u001b[1;32mC:\\ProgramData\\Anaconda3\\lib\\site-packages\\catboost\\core.py\u001b[0m in \u001b[0;36mcv\u001b[1;34m(pool, params, dtrain, iterations, num_boost_round, fold_count, nfold, inverted, partition_random_seed, seed, shuffle, logging_level, stratified, as_pandas, metric_period, verbose, verbose_eval, plot, early_stopping_rounds, save_snapshot, snapshot_file, snapshot_interval, metric_update_interval, folds, type, return_models, log_cout, log_cerr)\u001b[0m\n\u001b[0;32m   6138\u001b[0m     \u001b[1;32mwith\u001b[0m \u001b[0mlog_fixup\u001b[0m\u001b[1;33m(\u001b[0m\u001b[0mlog_cout\u001b[0m\u001b[1;33m,\u001b[0m \u001b[0mlog_cerr\u001b[0m\u001b[1;33m)\u001b[0m\u001b[1;33m,\u001b[0m \u001b[0mplot_wrapper\u001b[0m\u001b[1;33m(\u001b[0m\u001b[0mplot\u001b[0m\u001b[1;33m,\u001b[0m \u001b[1;33m[\u001b[0m\u001b[0m_get_train_dir\u001b[0m\u001b[1;33m(\u001b[0m\u001b[0mparams\u001b[0m\u001b[1;33m)\u001b[0m\u001b[1;33m]\u001b[0m\u001b[1;33m)\u001b[0m\u001b[1;33m:\u001b[0m\u001b[1;33m\u001b[0m\u001b[1;33m\u001b[0m\u001b[0m\n\u001b[0;32m   6139\u001b[0m         \u001b[1;32mif\u001b[0m \u001b[1;32mnot\u001b[0m \u001b[0mreturn_models\u001b[0m\u001b[1;33m:\u001b[0m\u001b[1;33m\u001b[0m\u001b[1;33m\u001b[0m\u001b[0m\n\u001b[1;32m-> 6140\u001b[1;33m             return _cv(params, pool, fold_count, inverted, partition_random_seed, shuffle, stratified,\n\u001b[0m\u001b[0;32m   6141\u001b[0m                     metric_update_interval, as_pandas, folds, type, return_models)\n\u001b[0;32m   6142\u001b[0m         \u001b[1;32melse\u001b[0m\u001b[1;33m:\u001b[0m\u001b[1;33m\u001b[0m\u001b[1;33m\u001b[0m\u001b[0m\n",
      "\u001b[1;32m_catboost.pyx\u001b[0m in \u001b[0;36m_catboost._cv\u001b[1;34m()\u001b[0m\n",
      "\u001b[1;32m_catboost.pyx\u001b[0m in \u001b[0;36m_catboost._cv\u001b[1;34m()\u001b[0m\n",
      "\u001b[1;31mKeyboardInterrupt\u001b[0m: "
     ]
    }
   ],
   "source": [
    "print(f'Temp1 MAE={mean_absolute_error(data2.iloc[:-1, 0], data2.iloc[1:, 0]):.3f}°C')\n",
    "cv_data = cv(\n",
    "    params=params,\n",
    "    pool=Pool(data2, label=target_temp1),\n",
    "    fold_count=6, \n",
    "    shuffle=False, \n",
    "    partition_random_seed=0,\n",
    "    plot=True, \n",
    "    stratified=False, \n",
    "    verbose=False\n",
    ")\n",
    "\n",
    "n_estimators=np.argmin(cv_data['test-MAE-mean'])\n",
    "print(f'Best n_estimators={n_estimators}')\n",
    "cb_temp1_model.set_params(n_estimators=n_estimators)\n",
    "cb_temp1_model.fit(data2, target_temp1)\n",
    "\n",
    "feature_importance = cb_temp1_model.get_feature_importance(Pool(data2, target_temp1))\n",
    "for item in zip(data2.columns.tolist(), feature_importance):\n",
    "    print(item)"
   ]
  },
  {
   "cell_type": "code",
   "execution_count": null,
   "id": "9fe61262",
   "metadata": {},
   "outputs": [],
   "source": [
    "print(f'Temp2 MAE={mean_absolute_error(data2.iloc[:-1, 1], data2.iloc[1:, 1]):.3f}°C')\n",
    "cv_data = cv(\n",
    "    params=params,\n",
    "    pool=Pool(data2, label=target_temp2),\n",
    "    fold_count=6, \n",
    "    shuffle=False, \n",
    "    partition_random_seed=0,\n",
    "    plot=True, \n",
    "    stratified=False, \n",
    "    verbose=False\n",
    ")\n",
    "\n",
    "n_estimators=np.argmin(cv_data['test-MAE-mean'])\n",
    "print(f'Best n_estimators={n_estimators}')\n",
    "cb_temp2_model.set_params(n_estimators=n_estimators)\n",
    "cb_temp2_model.fit(data2, target_temp2)\n",
    "\n",
    "feature_importance = cb_temp2_model.get_feature_importance(Pool(data2, target_temp2))\n",
    "for item in zip(data2.columns.tolist(), feature_importance):\n",
    "    print(item)"
   ]
  },
  {
   "cell_type": "code",
   "execution_count": null,
   "id": "dbc6544e",
   "metadata": {},
   "outputs": [],
   "source": [
    "print(f'Temp3 MAE={mean_absolute_error(data2.iloc[:-1, 2], data2.iloc[1:, 2]):.3f}°C')\n",
    "cv_data = cv(\n",
    "    params=params,\n",
    "    pool=Pool(data2, label=target_temp3),\n",
    "    fold_count=6, \n",
    "    shuffle=False, \n",
    "    partition_random_seed=0,\n",
    "    plot=True, \n",
    "    stratified=False, \n",
    "    verbose=False\n",
    ")\n",
    "\n",
    "n_estimators=np.argmin(cv_data['test-MAE-mean'])\n",
    "print(f'Best n_estimators={n_estimators}')\n",
    "cb_temp3_model.set_params(n_estimators=n_estimators)\n",
    "cb_temp3_model.fit(data2, target_temp3)\n",
    "\n",
    "feature_importance = cb_temp3_model.get_feature_importance(Pool(data2, target_temp3))\n",
    "for item in zip(data2.columns.tolist(), feature_importance):\n",
    "    print(item)"
   ]
  },
  {
   "cell_type": "code",
   "execution_count": null,
   "id": "34378dfd",
   "metadata": {},
   "outputs": [],
   "source": [
    "print('Temp1 error describe \\n', (cb_temp1_model.predict(data2) - target_temp1).describe(), '\\n')\n",
    "print('Temp2 error describe \\n', (cb_temp2_model.predict(data2) - target_temp2).describe(), '\\n')\n",
    "print('Temp3 error describe \\n', (cb_temp3_model.predict(data2) - target_temp3).describe(), '\\n')"
   ]
  },
  {
   "cell_type": "markdown",
   "id": "73bce3c1",
   "metadata": {},
   "source": [
    " "
   ]
  },
  {
   "cell_type": "markdown",
   "id": "a96d3958",
   "metadata": {},
   "source": [
    "### LSTM"
   ]
  },
  {
   "cell_type": "code",
   "execution_count": null,
   "id": "4bf11d25",
   "metadata": {},
   "outputs": [],
   "source": [
    "# Добавляем лаговые фичи: значения температуры с лагами 3, 4 и 5 шагов (9 колонок)\n",
    "'''data2['Temp1_shift3'] = data2['ai1 mean'].shift(3, fill_value=data2['ai1 mean'].iloc[0])\n",
    "data2['Temp1_shift4'] = data2['ai1 mean'].shift(4, fill_value=data2['ai1 mean'].iloc[0])\n",
    "data2['Temp1_shift5'] = data2['ai1 mean'].shift(5, fill_value=data2['ai1 mean'].iloc[0])\n",
    "\n",
    "data2['Temp2_shift3'] = data2['ai2 mean'].shift(3, fill_value=data2['ai2 mean'].iloc[0])\n",
    "data2['Temp2_shift4'] = data2['ai2 mean'].shift(4, fill_value=data2['ai2 mean'].iloc[0])\n",
    "data2['Temp2_shift5'] = data2['ai2 mean'].shift(5, fill_value=data2['ai2 mean'].iloc[0])\n",
    "\n",
    "data2['Temp3_shift3'] = data2['ai3 mean'].shift(3, fill_value=data2['ai3 mean'].iloc[0])\n",
    "data2['Temp3_shift4'] = data2['ai3 mean'].shift(4, fill_value=data2['ai3 mean'].iloc[0])\n",
    "data2['Temp3_shift5'] = data2['ai3 mean'].shift(5, fill_value=data2['ai3 mean'].iloc[0])'''"
   ]
  },
  {
   "cell_type": "code",
   "execution_count": null,
   "id": "95c31a15",
   "metadata": {},
   "outputs": [],
   "source": [
    "data2"
   ]
  },
  {
   "cell_type": "code",
   "execution_count": null,
   "id": "eae0ec04",
   "metadata": {},
   "outputs": [],
   "source": [
    "# Z-scaling of data\n",
    "scaler = StandardScaler()\n",
    "scaler.fit(data2)\n",
    "scaled_data = scaler.transform(data2)\n",
    "scaled_data = np.reshape(scaled_data, (scaled_data.shape[0], scaled_data.shape[1], 1))"
   ]
  },
  {
   "cell_type": "code",
   "execution_count": null,
   "id": "9d4da1f3",
   "metadata": {},
   "outputs": [],
   "source": [
    "scaled_data.shape"
   ]
  },
  {
   "cell_type": "code",
   "execution_count": null,
   "id": "2650e5c8",
   "metadata": {},
   "outputs": [],
   "source": [
    "# Формируем массив labels (таргет)\n",
    "labels = np.vstack((target_temp1, target_temp2, target_temp3)).T\n",
    "labels.shape"
   ]
  },
  {
   "cell_type": "code",
   "execution_count": null,
   "id": "454427e6",
   "metadata": {},
   "outputs": [],
   "source": [
    "# Построение LSTM модели\n",
    "def get_model(lstm_units, dense1_units, dense2_units, dense3_units):\n",
    "    model = Sequential()\n",
    "\n",
    "    model.add(LSTM(units=lstm_units, return_sequences=True, input_shape=(scaled_data.shape[1], 1)))\n",
    "    model.add(Dropout(0.5))\n",
    "\n",
    "    model.add(LSTM(units=lstm_units, return_sequences=True))\n",
    "    model.add(Dropout(0.5))\n",
    "    \n",
    "    model.add(LSTM(units=lstm_units))\n",
    "    model.add(Dropout(0.5))\n",
    "\n",
    "    model.add(Dense(units=dense1_units, activation='tanh'))\n",
    "    model.add(Dropout(0.5))\n",
    "\n",
    "    model.add(Dense(units=dense1_units, activation='tanh'))\n",
    "    model.add(Dropout(0.5))\n",
    "    \n",
    "    model.add(Dense(units=dense1_units, activation='tanh'))\n",
    "    model.add(Dropout(0.5))\n",
    "\n",
    "    model.add(Dense(units=dense2_units, activation='tanh'))\n",
    "    model.add(Dropout(0.5))\n",
    "\n",
    "    model.add(Dense(units=dense3_units, activation='tanh'))\n",
    "    model.add(Dropout(0.5))\n",
    "\n",
    "    model.add(Dense(units=labels.shape[1]))\n",
    "\n",
    "    model.compile(optimizer=tf.keras.optimizers.Adam(learning_rate=1e-4), loss=tf.keras.losses.MeanAbsoluteError())\n",
    "    \n",
    "    return model"
   ]
  },
  {
   "cell_type": "code",
   "execution_count": null,
   "id": "4ce8b40b",
   "metadata": {},
   "outputs": [],
   "source": [
    "lstm_model = get_model(lstm_units=128, \n",
    "                       dense1_units=256, \n",
    "                       dense2_units=256, \n",
    "                       dense3_units=128)"
   ]
  },
  {
   "cell_type": "code",
   "execution_count": null,
   "id": "dba5c3d4",
   "metadata": {},
   "outputs": [],
   "source": [
    "lstm_model.fit(scaled_data[:5000], labels[:5000], epochs = 30, batch_size = 16)"
   ]
  },
  {
   "cell_type": "code",
   "execution_count": null,
   "id": "e40a6bb8",
   "metadata": {},
   "outputs": [],
   "source": [
    "predictions = lstm_model.predict(scaled_data[:5000])\n",
    "print(f'Temp1 train MAE={mean_absolute_error(predictions[:, 0], labels[:5000, 0]):.4f}°C')\n",
    "print(f'Temp2 train MAE={mean_absolute_error(predictions[:, 1], labels[:5000, 1]):.4f}°C')\n",
    "print(f'Temp3 train MAE={mean_absolute_error(predictions[:, 2], labels[:5000, 2]):.4f}°C')"
   ]
  },
  {
   "cell_type": "code",
   "execution_count": null,
   "id": "8455094c",
   "metadata": {},
   "outputs": [],
   "source": [
    "predictions = lstm_model.predict(scaled_data[5000:])\n",
    "print(f'Temp1 test MAE={mean_absolute_error(predictions[:, 0], labels[5000:, 0]):.4f}°C')\n",
    "print(f'Temp2 test MAE={mean_absolute_error(predictions[:, 1], labels[5000:, 1]):.4f}°C')\n",
    "print(f'Temp3 test MAE={mean_absolute_error(predictions[:, 2], labels[5000:, 2]):.4f}°C')"
   ]
  },
  {
   "cell_type": "code",
   "execution_count": null,
   "id": "8c757d3a",
   "metadata": {
    "scrolled": false
   },
   "outputs": [],
   "source": [
    "for const in range(1, 17):\n",
    "    lstm_model = get_model(lstm_units=const*2, \n",
    "                       dense1_units=const*4, \n",
    "                       dense2_units=const*4, \n",
    "                       dense3_units=const*4)\n",
    "    \n",
    "    lstm_model.fit(scaled_data[:5000], labels[:5000], epochs = 50, batch_size = 8, verbose=0)\n",
    "    \n",
    "    predictions = lstm_model.predict(scaled_data[:5000])\n",
    "    print(f'Const={const}')\n",
    "    print(f'Temp1 train MAE={mean_absolute_error(predictions[:, 0], labels[:5000, 0]):.3f}°C')\n",
    "    print(f'Temp2 train MAE={mean_absolute_error(predictions[:, 1], labels[:5000, 1]):.3f}°C')\n",
    "    print(f'Temp3 train MAE={mean_absolute_error(predictions[:, 2], labels[:5000, 2]):.3f}°C')\n",
    "    predictions = lstm_model.predict(scaled_data[5000:])\n",
    "    print(f'Temp1 test MAE={mean_absolute_error(predictions[:, 0], labels[5000:, 0]):.3f}°C')\n",
    "    print(f'Temp2 test MAE={mean_absolute_error(predictions[:, 1], labels[5000:, 1]):.3f}°C')\n",
    "    print(f'Temp3 test MAE={mean_absolute_error(predictions[:, 2], labels[5000:, 2]):.3f}°C')"
   ]
  },
  {
   "cell_type": "markdown",
   "id": "6a347480",
   "metadata": {},
   "source": [
    "### CatBoost"
   ]
  },
  {
   "cell_type": "markdown",
   "id": "7484d0f3",
   "metadata": {},
   "source": [
    "Лучшие результаты, которые удалось получить, хуже, чем результаты модели CatBoost"
   ]
  },
  {
   "cell_type": "markdown",
   "id": "c767425d",
   "metadata": {},
   "source": [
    "Для работы с фиксированным порогом ±1°С, обучим модели CatBoost с L2 функцией ошибки. Так как определение ошибки будет производиться по фиксированному порогу, модель необходимо обучить на предсказание больших выбросов.\n"
   ]
  },
  {
   "cell_type": "code",
   "execution_count": 35,
   "id": "677ba78d",
   "metadata": {},
   "outputs": [],
   "source": [
    "params = {\n",
    "    'loss_function': 'RMSE',\n",
    "    'iterations': 2000,\n",
    "    'depth': 6,\n",
    "    'rsm': 0.2,\n",
    "    'random_seed': 0,\n",
    "    'learning_rate': 0.018\n",
    "}\n",
    "\n",
    "cb_model = CatBoostRegressor(n_estimators=1000,\n",
    "                             learning_rate=params['learning_rate'],\n",
    "                             rsm=params['rsm'],\n",
    "                             depth=params['depth'],\n",
    "                             loss_function=params['loss_function'],\n",
    "                             thread_count=-1,\n",
    "                             random_seed=0,\n",
    "                             logging_level='Silent')\n",
    "\n",
    "cb_temp1_model = cb_model.copy()\n",
    "cb_temp2_model = cb_model.copy()\n",
    "cb_temp3_model = cb_model.copy()\n",
    "\n"
   ]
  },
  {
   "cell_type": "code",
   "execution_count": 36,
   "id": "74f14b0a",
   "metadata": {
    "scrolled": false
   },
   "outputs": [
    {
     "name": "stdout",
     "output_type": "stream",
     "text": [
      "Temp1 RMSE=0.1491°C\n"
     ]
    },
    {
     "data": {
      "application/vnd.jupyter.widget-view+json": {
       "model_id": "20c7513c7a684a4caeceaf9ad9706a65",
       "version_major": 2,
       "version_minor": 0
      },
      "text/plain": [
       "MetricVisualizer(layout=Layout(align_self='stretch', height='500px'))"
      ]
     },
     "metadata": {},
     "output_type": "display_data"
    },
    {
     "name": "stdout",
     "output_type": "stream",
     "text": [
      "Best n_estimators=594\n",
      "('ai1 mean', 7.276034999749932)\n",
      "('ai2 mean', 0.06174760204919451)\n",
      "('ai3 mean', 0.2582297959317045)\n",
      "('Ai1_volat+', 18.776605947076657)\n",
      "('Ai2_volat+', 0.1859464526954539)\n",
      "('Ai3_volat+', 0.004756716316829005)\n",
      "('Ai1_volat-', 1.1310306967498078)\n",
      "('Ai2_volat-', 0.4894072168833773)\n",
      "('Ai3_volat-', 0.020169746478646226)\n",
      "('Temp1_shift1', 2.6960286307778616)\n",
      "('Temp1_shift2', 0.983054928447729)\n",
      "('Temp1_shift3', 0.5361876369523244)\n",
      "('Temp1_shift4', 0.622805444746508)\n",
      "('Temp1_shift5', 0.8644445497798305)\n",
      "('Temp2_shift1', 0.7516790646549758)\n",
      "('Temp2_shift2', 0.07253328848746385)\n",
      "('Temp3_shift1', 0.30088317924125113)\n",
      "('Temp3_shift2', 0.14127444095163263)\n",
      "('Mode1', 0.6656702765216979)\n",
      "('Mode2', 0.15957156793291674)\n",
      "('Mode3', 2.1639808258400173)\n",
      "('Mode4', 0.11267487194838544)\n",
      "('Mode1_uptime', 12.472919713461245)\n",
      "('Mode2_uptime', 0.08919413564604443)\n",
      "('Mode3_uptime', 3.416771244508518)\n",
      "('Mode4_uptime', 0.03890524134289355)\n",
      "('Cycle_uptime', 5.519777770766956)\n",
      "('Temp1_diff1', 2.0692649660434963)\n",
      "('Temp1_diff2', 0.9511373025854448)\n",
      "('Temp1_diff3', 3.3670693307402315)\n",
      "('Temp1_diff4', 4.084707325951213)\n",
      "('Temp2_diff1', 0.4627817973982601)\n",
      "('Temp3_diff1', 0.4771150682472882)\n",
      "('Temp1_ema_short', 3.6514408355154653)\n",
      "('Temp1_ema_avg', 4.932661795424002)\n",
      "('Temp1_ema_long', 4.253724812489232)\n",
      "('Temp2_ema_short', 0.26488620284532)\n",
      "('Temp2_ema_avg', 0.10455588026456472)\n",
      "('Temp2_ema_long', 0.3028090964349561)\n",
      "('Temp3_ema_short', 1.1953049418392185)\n",
      "('Temp3_ema_avg', 3.927988597935678)\n",
      "('Temp3_ema_long', 7.3514665661073115)\n",
      "('Temp1_cooling_down', 2.3075448015225395)\n",
      "('Temp2_cooling_down', 0.48325469271594446)\n"
     ]
    }
   ],
   "source": [
    "print(f'Temp1 RMSE={mean_squared_error(data2.iloc[:-1, 0], data2.iloc[1:, 0])**0.5:.4f}°C')\n",
    "cv_data = cv(\n",
    "    params=params,\n",
    "    pool=Pool(data2, label=target_temp1),\n",
    "    fold_count=6, \n",
    "    shuffle=False, \n",
    "    partition_random_seed=0,\n",
    "    plot=True, \n",
    "    stratified=False, \n",
    "    verbose=False\n",
    ")\n",
    "\n",
    "n_estimators=np.argmin(cv_data['test-RMSE-mean'])\n",
    "print(f'Best n_estimators={n_estimators}')\n",
    "cb_temp1_model.set_params(n_estimators=n_estimators)\n",
    "cb_temp1_model.fit(data2, target_temp1)\n",
    "\n",
    "feature_importance = cb_temp1_model.get_feature_importance(Pool(data2, target_temp1))\n",
    "for item in zip(data2.columns.tolist(), feature_importance):\n",
    "    print(item)"
   ]
  },
  {
   "cell_type": "code",
   "execution_count": 50,
   "id": "81119a17",
   "metadata": {},
   "outputs": [
    {
     "name": "stdout",
     "output_type": "stream",
     "text": [
      "Temp2 RMSE=0.0404°C\n"
     ]
    },
    {
     "data": {
      "application/vnd.jupyter.widget-view+json": {
       "model_id": "65a7cfc16098464993495735f66b56ca",
       "version_major": 2,
       "version_minor": 0
      },
      "text/plain": [
       "MetricVisualizer(layout=Layout(align_self='stretch', height='500px'))"
      ]
     },
     "metadata": {},
     "output_type": "display_data"
    },
    {
     "name": "stdout",
     "output_type": "stream",
     "text": [
      "Best n_estimators=827\n",
      "('ai1 mean', 1.0743518312207638)\n",
      "('ai2 mean', 1.7981903063460651)\n",
      "('ai3 mean', 0.8265270411656297)\n",
      "('Ai1_volat+', 0.10193036310918836)\n",
      "('Ai2_volat+', 8.90779494647669)\n",
      "('Ai3_volat+', 0.19560186900695362)\n",
      "('Ai1_volat-', 0.24054816832334436)\n",
      "('Ai2_volat-', 19.262460792172657)\n",
      "('Ai3_volat-', 0.18777734618434336)\n",
      "('Temp1_shift1', 0.9158949691207792)\n",
      "('Temp1_shift2', 0.47307063084022155)\n",
      "('Temp1_shift3', 0.6609002184973478)\n",
      "('Temp1_shift4', 0.934387050444759)\n",
      "('Temp1_shift5', 0.8399882576328024)\n",
      "('Temp2_shift1', 2.754119387747746)\n",
      "('Temp2_shift2', 2.182818141852855)\n",
      "('Temp3_shift1', 1.2531710641168148)\n",
      "('Temp3_shift2', 0.8438137885823416)\n",
      "('Mode1', 0.5451028345966304)\n",
      "('Mode2', 0.22922108227260357)\n",
      "('Mode3', 0.1715574494787161)\n",
      "('Mode4', 0.3888672468677747)\n",
      "('Mode1_uptime', 2.823312026208193)\n",
      "('Mode2_uptime', 1.0548600537712778)\n",
      "('Mode3_uptime', 0.6049023307959444)\n",
      "('Mode4_uptime', 1.4943342671766755)\n",
      "('Cycle_uptime', 2.2473695121021158)\n",
      "('Temp1_diff1', 0.40896165968762105)\n",
      "('Temp1_diff2', 0.7619975407378777)\n",
      "('Temp1_diff3', 0.8763200018813995)\n",
      "('Temp1_diff4', 0.8735572645014452)\n",
      "('Temp2_diff1', 5.364405649545066)\n",
      "('Temp3_diff1', 0.36136960103189614)\n",
      "('Temp1_ema_short', 0.5556794017591572)\n",
      "('Temp1_ema_avg', 1.0137292746144457)\n",
      "('Temp1_ema_long', 4.321572630346082)\n",
      "('Temp2_ema_short', 8.055353564020969)\n",
      "('Temp2_ema_avg', 7.3866771315112825)\n",
      "('Temp2_ema_long', 5.515640612845042)\n",
      "('Temp3_ema_short', 0.5486721300159583)\n",
      "('Temp3_ema_avg', 0.891023821084974)\n",
      "('Temp3_ema_long', 1.77246440720752)\n",
      "('Temp1_cooling_down', 0.921151453895621)\n",
      "('Temp2_cooling_down', 7.358550879202366)\n"
     ]
    }
   ],
   "source": [
    "print(f'Temp2 RMSE={mean_squared_error(data2.iloc[:-1, 1], data2.iloc[1:, 1])**0.5:.4f}°C')\n",
    "cv_data = cv(\n",
    "    params=params,\n",
    "    pool=Pool(data2, label=target_temp2),\n",
    "    fold_count=3, \n",
    "    shuffle=False, \n",
    "    partition_random_seed=0,\n",
    "    plot=True, \n",
    "    stratified=False, \n",
    "    verbose=False\n",
    ")\n",
    "\n",
    "n_estimators=np.argmin(cv_data['test-RMSE-mean'])\n",
    "print(f'Best n_estimators={n_estimators}')\n",
    "cb_temp2_model.set_params(n_estimators=n_estimators)\n",
    "cb_temp2_model.fit(data2, target_temp2)\n",
    "\n",
    "feature_importance = cb_temp2_model.get_feature_importance(Pool(data2, target_temp2))\n",
    "for item in zip(data2.columns.tolist(), feature_importance):\n",
    "    print(item)"
   ]
  },
  {
   "cell_type": "code",
   "execution_count": 51,
   "id": "6566cd65",
   "metadata": {},
   "outputs": [
    {
     "name": "stdout",
     "output_type": "stream",
     "text": [
      "Temp3 RMSE=0.0820°C\n"
     ]
    },
    {
     "data": {
      "application/vnd.jupyter.widget-view+json": {
       "model_id": "dff4fdcf158c4b4394e4bf3af3067c06",
       "version_major": 2,
       "version_minor": 0
      },
      "text/plain": [
       "MetricVisualizer(layout=Layout(align_self='stretch', height='500px'))"
      ]
     },
     "metadata": {},
     "output_type": "display_data"
    },
    {
     "name": "stdout",
     "output_type": "stream",
     "text": [
      "Best n_estimators=1956\n",
      "('ai1 mean', 0.8095167463042059)\n",
      "('ai2 mean', 0.30190558745618384)\n",
      "('ai3 mean', 7.445681879398518)\n",
      "('Ai1_volat+', 0.25064204897658277)\n",
      "('Ai2_volat+', 0.1159951704934949)\n",
      "('Ai3_volat+', 9.705159806225549)\n",
      "('Ai1_volat-', 0.32000780120854266)\n",
      "('Ai2_volat-', 0.05134319847875914)\n",
      "('Ai3_volat-', 8.174160568262653)\n",
      "('Temp1_shift1', 1.8863701227820084)\n",
      "('Temp1_shift2', 1.3651944092071924)\n",
      "('Temp1_shift3', 1.0664706521764358)\n",
      "('Temp1_shift4', 0.9536774372558506)\n",
      "('Temp1_shift5', 1.3181154275378102)\n",
      "('Temp2_shift1', 0.27067357054963065)\n",
      "('Temp2_shift2', 0.27740526600879406)\n",
      "('Temp3_shift1', 4.831415555712925)\n",
      "('Temp3_shift2', 1.1213355207506204)\n",
      "('Mode1', 0.2951505919859069)\n",
      "('Mode2', 0.12973657387596146)\n",
      "('Mode3', 3.864443281023102)\n",
      "('Mode4', 0.1629326235043037)\n",
      "('Mode1_uptime', 3.783501446650737)\n",
      "('Mode2_uptime', 0.386661800459233)\n",
      "('Mode3_uptime', 8.711971579309047)\n",
      "('Mode4_uptime', 0.32920910732296416)\n",
      "('Cycle_uptime', 10.525740357181412)\n",
      "('Temp1_diff1', 0.20542781289829137)\n",
      "('Temp1_diff2', 1.13469315080549)\n",
      "('Temp1_diff3', 1.9078180963220381)\n",
      "('Temp1_diff4', 4.744055137065526)\n",
      "('Temp2_diff1', 0.17224567589603085)\n",
      "('Temp3_diff1', 3.7915056464176824)\n",
      "('Temp1_ema_short', 0.9788135094721958)\n",
      "('Temp1_ema_avg', 2.2074378388038096)\n",
      "('Temp1_ema_long', 1.0659403127220073)\n",
      "('Temp2_ema_short', 0.40039793979566435)\n",
      "('Temp2_ema_avg', 0.23491224465812283)\n",
      "('Temp2_ema_long', 0.31870181195155367)\n",
      "('Temp3_ema_short', 5.997639799657805)\n",
      "('Temp3_ema_avg', 3.4280041273985384)\n",
      "('Temp3_ema_long', 3.1846094885477028)\n",
      "('Temp1_cooling_down', 1.4746418750116872)\n",
      "('Temp2_cooling_down', 0.2987374024774463)\n"
     ]
    }
   ],
   "source": [
    "print(f'Temp3 RMSE={mean_squared_error(data2.iloc[:-1, 2], data2.iloc[1:, 2])**0.5:.4f}°C')\n",
    "cv_data = cv(\n",
    "    params=params,\n",
    "    pool=Pool(data2, label=target_temp3),\n",
    "    fold_count=3, \n",
    "    shuffle=False, \n",
    "    partition_random_seed=0,\n",
    "    plot=True, \n",
    "    stratified=False, \n",
    "    verbose=False\n",
    ")\n",
    "\n",
    "n_estimators=np.argmin(cv_data['test-RMSE-mean'])\n",
    "print(f'Best n_estimators={n_estimators}')\n",
    "cb_temp3_model.set_params(n_estimators=n_estimators)\n",
    "cb_temp3_model.fit(data2, target_temp3)\n",
    "\n",
    "feature_importance = cb_temp3_model.get_feature_importance(Pool(data2, target_temp3))\n",
    "for item in zip(data2.columns.tolist(), feature_importance):\n",
    "    print(item)"
   ]
  },
  {
   "cell_type": "code",
   "execution_count": 20,
   "id": "f95e7160",
   "metadata": {},
   "outputs": [
    {
     "name": "stdout",
     "output_type": "stream",
     "text": [
      "Temp1 error describe \n",
      " count    6761.000000\n",
      "mean       -0.000010\n",
      "std         0.055089\n",
      "min        -0.553979\n",
      "25%        -0.015557\n",
      "50%        -0.001518\n",
      "75%         0.014960\n",
      "max         0.496279\n",
      "Name: ai1 mean, dtype: float64 \n",
      "\n"
     ]
    }
   ],
   "source": [
    "print('Temp1 error describe \\n', (cb_temp1_model.predict(data2) - target_temp1).describe(), '\\n')\n",
    "#print('Temp2 error describe \\n', (cb_temp2_model.predict(data2) - target_temp2).describe(), '\\n')\n",
    "#print('Temp3 error describe \\n', (cb_temp3_model.predict(data2) - target_temp3).describe(), '\\n')"
   ]
  },
  {
   "cell_type": "code",
   "execution_count": null,
   "id": "87b46763",
   "metadata": {},
   "outputs": [],
   "source": []
  },
  {
   "cell_type": "code",
   "execution_count": null,
   "id": "9f6b1220",
   "metadata": {},
   "outputs": [],
   "source": []
  },
  {
   "cell_type": "code",
   "execution_count": null,
   "id": "edf030a2",
   "metadata": {},
   "outputs": [],
   "source": []
  },
  {
   "cell_type": "code",
   "execution_count": null,
   "id": "b7dae8a4",
   "metadata": {},
   "outputs": [],
   "source": []
  },
  {
   "cell_type": "code",
   "execution_count": null,
   "id": "dd36a091",
   "metadata": {},
   "outputs": [],
   "source": []
  },
  {
   "cell_type": "code",
   "execution_count": null,
   "id": "c9629b3d",
   "metadata": {},
   "outputs": [],
   "source": []
  },
  {
   "cell_type": "code",
   "execution_count": null,
   "id": "77d69a51",
   "metadata": {},
   "outputs": [],
   "source": []
  },
  {
   "cell_type": "code",
   "execution_count": null,
   "id": "1714e7cf",
   "metadata": {},
   "outputs": [],
   "source": []
  }
 ],
 "metadata": {
  "kernelspec": {
   "display_name": "Python 3 (ipykernel)",
   "language": "python",
   "name": "python3"
  },
  "language_info": {
   "codemirror_mode": {
    "name": "ipython",
    "version": 3
   },
   "file_extension": ".py",
   "mimetype": "text/x-python",
   "name": "python",
   "nbconvert_exporter": "python",
   "pygments_lexer": "ipython3",
   "version": "3.8.13"
  }
 },
 "nbformat": 4,
 "nbformat_minor": 5
}
